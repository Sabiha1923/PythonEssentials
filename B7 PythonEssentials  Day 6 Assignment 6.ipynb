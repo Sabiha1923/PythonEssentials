{
 "cells": [
  {
   "cell_type": "code",
   "execution_count": 1,
   "metadata": {},
   "outputs": [
    {
     "name": "stdout",
     "output_type": "stream",
     "text": [
      "Owner Name:Danny \n",
      "Balance available is Rs100\n",
      "Deposit amount is 160\n",
      "Withdrawal is accepted. Available balance is:Rs 85\n",
      "Withdraw amount exceeds the available amount!\n"
     ]
    }
   ],
   "source": [
    "# Question1 : To create a bank account class and check the amount is not overdrawn.\n",
    "\n",
    "\n",
    "class bankaccnt():\n",
    "    \n",
    "    def __init__(self, ownername, balance):\n",
    "        \n",
    "        self.ownername = ownername\n",
    "        self.balance = balance\n",
    "        \n",
    "    def __str__ (self):\n",
    "        return \"Owner Name:{ownername} \\nBalance available is Rs{balance}\".format(ownername = self.ownername ,balance = self.balance)\n",
    "    \n",
    "    def deposit(self, dep_money):\n",
    "        self.balance += dep_money \n",
    "        \n",
    "        \n",
    "        print (\"Deposit amount is\" , self.balance)\n",
    "    \n",
    "    def withdraw( self, withd_money):\n",
    "        if withd_money >= self.balance:\n",
    "            print(\"Withdraw amount exceeds the available amount!\")\n",
    "           \n",
    "        else:\n",
    "                self.balance -= withd_money\n",
    "                print(\"Withdrawal is accepted. Available balance is:Rs {balance}\".format(balance = self.balance))\n",
    "\n",
    "accnt1 = bankaccnt(\"Danny\", 100)\n",
    "print(accnt1)\n",
    "accnt1.deposit(60)\n",
    "accnt1.withdraw(75)\n",
    "accnt1.withdraw(600)\n",
    "    "
   ]
  },
  {
   "cell_type": "code",
   "execution_count": null,
   "metadata": {},
   "outputs": [],
   "source": []
  },
  {
   "cell_type": "code",
   "execution_count": 4,
   "metadata": {},
   "outputs": [
    {
     "name": "stdout",
     "output_type": "stream",
     "text": [
      "Volume of cone: 283.16221784356003\n",
      "Surface Area of cone:  240.14334244040379\n"
     ]
    }
   ],
   "source": [
    "#Question 2 : To calculate the volume and surface area of cone importing math package.\n",
    "\n",
    "\n",
    "import math\n",
    "pi = math.pi\n",
    "def volume(radius,height):\n",
    "        return (1/3) * pi * radius * radius * height\n",
    "    \n",
    "def surfacearea(radius, side):\n",
    "        return pi * radius * side + pi * radius * radius\n",
    "    \n",
    "#drivercode\n",
    "\n",
    "radius = float(5.2)\n",
    "height = float(10)\n",
    "slant_height = float(9.5)\n",
    "\n",
    "print(\"Volume of cone:\", volume (radius,height))\n",
    "print(\"Surface Area of cone: \", surfacearea(radius,slant_height))"
   ]
  },
  {
   "cell_type": "code",
   "execution_count": null,
   "metadata": {},
   "outputs": [],
   "source": []
  }
 ],
 "metadata": {
  "kernelspec": {
   "display_name": "Python 3",
   "language": "python",
   "name": "python3"
  },
  "language_info": {
   "codemirror_mode": {
    "name": "ipython",
    "version": 3
   },
   "file_extension": ".py",
   "mimetype": "text/x-python",
   "name": "python",
   "nbconvert_exporter": "python",
   "pygments_lexer": "ipython3",
   "version": "3.8.3"
  }
 },
 "nbformat": 4,
 "nbformat_minor": 4
}
