{
 "cells": [
  {
   "cell_type": "markdown",
   "metadata": {},
   "source": [
    "# LIST\n",
    "#A list is a container in Python which can hold different dataypes in it. also called as an object.\n",
    "\n",
    "lst = ['75','90','45','10','999.9',\"sabiha\",[33,44,55]]\n",
    "lst"
   ]
  },
  {
   "cell_type": "code",
   "execution_count": 3,
   "metadata": {},
   "outputs": [],
   "source": [
    "#List default Functions.\n",
    "# 1 append: Adds a single element to a list.\n",
    "\n",
    "lst.append(\"PUNE\")\n"
   ]
  },
  {
   "cell_type": "code",
   "execution_count": 4,
   "metadata": {},
   "outputs": [
    {
     "data": {
      "text/plain": [
       "['75', '90', '45', '10', '999.9', 'sabiha', [33, 44, 55], 'PUNE']"
      ]
     },
     "execution_count": 4,
     "metadata": {},
     "output_type": "execute_result"
    }
   ],
   "source": [
    "lst"
   ]
  },
  {
   "cell_type": "code",
   "execution_count": 5,
   "metadata": {},
   "outputs": [
    {
     "data": {
      "text/plain": [
       "5"
      ]
     },
     "execution_count": 5,
     "metadata": {},
     "output_type": "execute_result"
    }
   ],
   "source": [
    "#2 index: gives the nth element in the list.\n",
    "\n",
    "lst.index(\"sabiha\")\n"
   ]
  },
  {
   "cell_type": "code",
   "execution_count": 6,
   "metadata": {},
   "outputs": [
    {
     "name": "stdout",
     "output_type": "stream",
     "text": [
      "the length of the list is 8\n"
     ]
    }
   ],
   "source": [
    "# 3 len : gives the length of the list.\n",
    "\n",
    "print(\"the length of the list is\", len(lst))\n"
   ]
  },
  {
   "cell_type": "code",
   "execution_count": 16,
   "metadata": {},
   "outputs": [
    {
     "name": "stdout",
     "output_type": "stream",
     "text": [
      "['10', '45', '75', '90', '999.9', 'sabiha', [33, 44, 55], 'PUNE']\n"
     ]
    }
   ],
   "source": [
    "#4 sort: sorts list in ascending order.\n",
    "\n",
    "lst.sort\n",
    "(print (lst))\n"
   ]
  },
  {
   "cell_type": "code",
   "execution_count": 21,
   "metadata": {},
   "outputs": [
    {
     "data": {
      "text/plain": [
       "['10',\n",
       " '45',\n",
       " '75',\n",
       " '90',\n",
       " '999.9',\n",
       " 'sabiha',\n",
       " [33, 44, 55],\n",
       " 'PUNE',\n",
       " '777.7, 888.8,333.3']"
      ]
     },
     "execution_count": 21,
     "metadata": {},
     "output_type": "execute_result"
    }
   ],
   "source": [
    "#5 extend : Adds multiple elements to a list.\n",
    "\n",
    "lst.extend (['777.7, 888.8,333.3'])\n",
    "lst"
   ]
  },
  {
   "cell_type": "markdown",
   "metadata": {},
   "source": [
    "# DICTIONARY"
   ]
  },
  {
   "cell_type": "code",
   "execution_count": 22,
   "metadata": {},
   "outputs": [],
   "source": [
    "# A dictionary is complex data  structure which has unordered key value pairs.\n",
    "\n",
    "dit = {\"name\":\"SABIHA\", \"Address\" : \"MUMBAI\", \"number\":'635425',\"email\" : \"sam@outlook.com\"}"
   ]
  },
  {
   "cell_type": "code",
   "execution_count": 23,
   "metadata": {},
   "outputs": [
    {
     "data": {
      "text/plain": [
       "{'name': 'SABIHA',\n",
       " 'Address': 'MUMBAI',\n",
       " 'number': '635425',\n",
       " 'email': 'sam@outlook.com'}"
      ]
     },
     "execution_count": 23,
     "metadata": {},
     "output_type": "execute_result"
    }
   ],
   "source": [
    "dit"
   ]
  },
  {
   "cell_type": "code",
   "execution_count": 25,
   "metadata": {},
   "outputs": [
    {
     "data": {
      "text/plain": [
       "dict_items([('name', 'SABIHA'), ('Address', 'MUMBAI'), ('number', '635425'), ('email', 'sam@outlook.com')])"
      ]
     },
     "execution_count": 25,
     "metadata": {},
     "output_type": "execute_result"
    }
   ],
   "source": [
    "#Dictionary and its Methods.\n",
    "# 1 dit.items() : returns key value pairs as tuple.\n",
    " \n",
    "dit.items()\n"
   ]
  },
  {
   "cell_type": "code",
   "execution_count": 26,
   "metadata": {},
   "outputs": [
    {
     "data": {
      "text/plain": [
       "dict_keys(['name', 'Address', 'number', 'email'])"
      ]
     },
     "execution_count": 26,
     "metadata": {},
     "output_type": "execute_result"
    }
   ],
   "source": [
    "#2 dit.keys(): It returns all the keys of the dictionary.\n",
    "\n",
    "dit.keys()\n"
   ]
  },
  {
   "cell_type": "code",
   "execution_count": 27,
   "metadata": {},
   "outputs": [
    {
     "data": {
      "text/plain": [
       "dict_values(['SABIHA', 'MUMBAI', '635425', 'sam@outlook.com'])"
      ]
     },
     "execution_count": 27,
     "metadata": {},
     "output_type": "execute_result"
    }
   ],
   "source": [
    "#3 dit.values(): It returns all the values of the dictionary.\n",
    "\n",
    "dit.values()"
   ]
  },
  {
   "cell_type": "code",
   "execution_count": 29,
   "metadata": {},
   "outputs": [
    {
     "data": {
      "text/plain": [
       "'sam@outlook.com'"
      ]
     },
     "execution_count": 29,
     "metadata": {},
     "output_type": "execute_result"
    }
   ],
   "source": [
    "# 4 dit.pop(): pops the specifies value of the key.\n",
    "\n",
    "dit.pop(\"email\")"
   ]
  },
  {
   "cell_type": "code",
   "execution_count": 34,
   "metadata": {},
   "outputs": [
    {
     "data": {
      "text/plain": [
       "{'name': 'SABIHA', 'Address': 'MUMBAI', 'number': '635425'}"
      ]
     },
     "execution_count": 34,
     "metadata": {},
     "output_type": "execute_result"
    }
   ],
   "source": [
    "# 5 len dit():  is used to calculate the length of the dictionary.\n",
    "dit"
   ]
  },
  {
   "cell_type": "code",
   "execution_count": 35,
   "metadata": {},
   "outputs": [
    {
     "data": {
      "text/plain": [
       "3"
      ]
     },
     "execution_count": 35,
     "metadata": {},
     "output_type": "execute_result"
    }
   ],
   "source": [
    "len (dit)"
   ]
  },
  {
   "cell_type": "code",
   "execution_count": 36,
   "metadata": {},
   "outputs": [],
   "source": [
    "# setdefault: sets a default value for the key.\n",
    "dit.setdefault(\"email\")"
   ]
  },
  {
   "cell_type": "code",
   "execution_count": 37,
   "metadata": {},
   "outputs": [
    {
     "data": {
      "text/plain": [
       "{'name': 'SABIHA', 'Address': 'MUMBAI', 'number': '635425', 'email': None}"
      ]
     },
     "execution_count": 37,
     "metadata": {},
     "output_type": "execute_result"
    }
   ],
   "source": [
    "dit"
   ]
  },
  {
   "cell_type": "markdown",
   "metadata": {},
   "source": [
    "# SETS\n"
   ]
  },
  {
   "cell_type": "code",
   "execution_count": 38,
   "metadata": {},
   "outputs": [],
   "source": [
    "# SETS are used for unique values in python and are unordered.\n",
    "\n",
    "st = {\"sam\", \"LetsUpgrade\", 1,1,2,3,3,4,5,5,6,6,7}\n"
   ]
  },
  {
   "cell_type": "code",
   "execution_count": 39,
   "metadata": {},
   "outputs": [
    {
     "data": {
      "text/plain": [
       "{1, 2, 3, 4, 5, 6, 7, 'LetsUpgrade', 'sam'}"
      ]
     },
     "execution_count": 39,
     "metadata": {},
     "output_type": "execute_result"
    }
   ],
   "source": [
    "st"
   ]
  },
  {
   "cell_type": "code",
   "execution_count": 40,
   "metadata": {},
   "outputs": [],
   "source": [
    "#SETS and its functions\n",
    "# 1. add: adds item to the set.\n",
    " \n",
    "st.add(\"Boseman\")\n",
    "st.add(\"Sushant\")\n",
    "\n"
   ]
  },
  {
   "cell_type": "code",
   "execution_count": 41,
   "metadata": {},
   "outputs": [
    {
     "data": {
      "text/plain": [
       "{1, 2, 3, 4, 5, 6, 7, 'Boseman', 'LetsUpgrade', 'Sushant', 'sam'}"
      ]
     },
     "execution_count": 41,
     "metadata": {},
     "output_type": "execute_result"
    }
   ],
   "source": [
    "st"
   ]
  },
  {
   "cell_type": "code",
   "execution_count": 42,
   "metadata": {},
   "outputs": [],
   "source": [
    "#2. update: updates the set.\n",
    "\n",
    "st.update([77,88])\n"
   ]
  },
  {
   "cell_type": "code",
   "execution_count": 43,
   "metadata": {},
   "outputs": [
    {
     "data": {
      "text/plain": [
       "{1, 2, 3, 4, 5, 6, 7, 77, 88, 'Boseman', 'LetsUpgrade', 'Sushant', 'sam'}"
      ]
     },
     "execution_count": 43,
     "metadata": {},
     "output_type": "execute_result"
    }
   ],
   "source": [
    "st"
   ]
  },
  {
   "cell_type": "code",
   "execution_count": 46,
   "metadata": {},
   "outputs": [
    {
     "name": "stdout",
     "output_type": "stream",
     "text": [
      "{'MONDAY', 'FRIDAY'}\n"
     ]
    }
   ],
   "source": [
    "#3.Intersection() or '&' is used: result is the set of the elements that are common in both sets.\n",
    "\n",
    "set1 = {\"SUNDAY\",\"MONDAY\",\"WEDNESDAY\",\"FRIDAY\"}\n",
    "\n",
    "set2 = {\"MONDAY\",\"TUESDAY\",\"THURSDAY\",\"FRIDAY\"}\n",
    "\n",
    "print (set1 & set2)\n",
    "\n"
   ]
  },
  {
   "cell_type": "code",
   "execution_count": 47,
   "metadata": {},
   "outputs": [
    {
     "name": "stdout",
     "output_type": "stream",
     "text": [
      "{'MONDAY', 'THURSDAY', 'FRIDAY', 'WEDNESDAY', 'SUNDAY', 'TUESDAY'}\n"
     ]
    }
   ],
   "source": [
    "# 4. UNION() or | is used : result is the union of both the elements. the elements are not repeated.\n",
    "\n",
    "set1 = {\"SUNDAY\",\"MONDAY\",\"WEDNESDAY\",\"FRIDAY\"}\n",
    "\n",
    "set2 = {\"MONDAY\",\"TUESDAY\",\"THURSDAY\",\"FRIDAY\"}\n",
    "\n",
    "print(set1 | set2)\n"
   ]
  },
  {
   "cell_type": "code",
   "execution_count": 59,
   "metadata": {},
   "outputs": [
    {
     "name": "stdout",
     "output_type": "stream",
     "text": [
      "{'SUNDAY', 'WEDNESDAY'}\n"
     ]
    }
   ],
   "source": [
    "#5 difference() or subtraction operator (-): The difference of two sets can be calculated by using the intersection() method. \n",
    "#Suppose there are two sets set1 and set2, and the difference is 1-2 that denotes\n",
    "#the resulting set will be obtained that element of 1, which is not present in the set 2.\n",
    "\n",
    "set1 = {\"SUNDAY\",\"MONDAY\",\"WEDNESDAY\",\"FRIDAY\"}\n",
    "\n",
    "set2 = {\"MONDAY\",\"TUESDAY\",\"THURSDAY\",\"FRIDAY\"}\n",
    "\n",
    "print(set1.difference(set2))"
   ]
  },
  {
   "cell_type": "markdown",
   "metadata": {},
   "source": [
    "# TUPLES"
   ]
  },
  {
   "cell_type": "code",
   "execution_count": 49,
   "metadata": {},
   "outputs": [],
   "source": [
    "#A tuple is an immutable collection of objects.\n",
    "\n",
    "tup = (\"Shubham\", \"PUNE\", 1,2,3,45)\n"
   ]
  },
  {
   "cell_type": "code",
   "execution_count": 50,
   "metadata": {},
   "outputs": [
    {
     "data": {
      "text/plain": [
       "('Shubham', 'PUNE', 1, 2, 3, 45)"
      ]
     },
     "execution_count": 50,
     "metadata": {},
     "output_type": "execute_result"
    }
   ],
   "source": [
    "tup"
   ]
  },
  {
   "cell_type": "code",
   "execution_count": 52,
   "metadata": {},
   "outputs": [
    {
     "data": {
      "text/plain": [
       "0"
      ]
     },
     "execution_count": 52,
     "metadata": {},
     "output_type": "execute_result"
    }
   ],
   "source": [
    "#Tuple has only two methods.\n",
    "#1.count(): gives the index no.of the element.\n",
    "\n",
    "tup.count(\"Subham\")\n"
   ]
  },
  {
   "cell_type": "code",
   "execution_count": 56,
   "metadata": {},
   "outputs": [
    {
     "data": {
      "text/plain": [
       "4"
      ]
     },
     "execution_count": 56,
     "metadata": {},
     "output_type": "execute_result"
    }
   ],
   "source": [
    "#2. index(): index specifies the no. of element in the tuple.\n",
    "\n",
    "tup.index(3)"
   ]
  },
  {
   "cell_type": "code",
   "execution_count": 57,
   "metadata": {},
   "outputs": [
    {
     "data": {
      "text/plain": [
       "'Shubham'"
      ]
     },
     "execution_count": 57,
     "metadata": {},
     "output_type": "execute_result"
    }
   ],
   "source": [
    "tup[-6] # is reverse indexing"
   ]
  },
  {
   "cell_type": "code",
   "execution_count": null,
   "metadata": {},
   "outputs": [],
   "source": []
  },
  {
   "cell_type": "markdown",
   "metadata": {},
   "source": [
    "# STRINGS"
   ]
  },
  {
   "cell_type": "code",
   "execution_count": 62,
   "metadata": {},
   "outputs": [
    {
     "name": "stdout",
     "output_type": "stream",
     "text": [
      "Hello LetsUpgrade\n",
      "HELLO LETSUPGRADE\n"
     ]
    }
   ],
   "source": [
    "#Python string is the collection of the characters surrounded by single quotes, double quotes, or triple quotes.\n",
    "\n",
    "str1= 'Hello LetsUpgrade'\n",
    "print(str1)\n",
    "\n",
    "str2 = \"HELLO LETSUPGRADE\"\n",
    "print(str2)\n"
   ]
  },
  {
   "cell_type": "code",
   "execution_count": 70,
   "metadata": {},
   "outputs": [
    {
     "data": {
      "text/plain": [
       "'GOOD EVENING  HOW ARE YOU DOING'"
      ]
     },
     "execution_count": 70,
     "metadata": {},
     "output_type": "execute_result"
    }
   ],
   "source": [
    "# while using strings we can use different operators like \"+,-,*,%,not in etc.\"\n",
    "#1. if we need to concatenate two or three strings we use '+'\n",
    " \n",
    "str1 = \"GOOD EVENING\"\n",
    "\n",
    "str2 = \"HOW ARE YOU DOING\"\n",
    "\n",
    "str1 + \"  \" + str2\n"
   ]
  },
  {
   "cell_type": "code",
   "execution_count": 76,
   "metadata": {},
   "outputs": [
    {
     "data": {
      "text/plain": [
       "'Good morning'"
      ]
     },
     "execution_count": 76,
     "metadata": {},
     "output_type": "execute_result"
    }
   ],
   "source": [
    "#METHODS: capitalize(): initial letter is capitalized.\n",
    "\n",
    "str1 = 'good morning'\n",
    "\n",
    "str1.capitalize()"
   ]
  },
  {
   "cell_type": "code",
   "execution_count": 81,
   "metadata": {},
   "outputs": [
    {
     "name": "stdout",
     "output_type": "stream",
     "text": [
      "True\n",
      "False\n",
      "False\n"
     ]
    }
   ],
   "source": [
    "#2.isidentifier(): method is used to check whether a string is a valid identifier or not.\n",
    "\n",
    "str1 = \"abcdef\"\n",
    "\n",
    "str2 = '22,45,66'\n",
    "\n",
    "str3 = \"&abc\"\n",
    "\n",
    "str6= str1.isidentifier()\n",
    "str7= str2.isidentifier()\n",
    "str8= str3.isidentifier()\n",
    "\n",
    "print(str6)\n",
    "print(str7)\n",
    "print(str8)\n",
    "\n"
   ]
  },
  {
   "cell_type": "code",
   "execution_count": 82,
   "metadata": {},
   "outputs": [
    {
     "data": {
      "text/plain": [
       "14"
      ]
     },
     "execution_count": 82,
     "metadata": {},
     "output_type": "execute_result"
    }
   ],
   "source": [
    "#3. len(string): specifies the length of the string.\n",
    "\n",
    "str1 = \"Pubg is banned\"\n",
    "\n",
    "len(str1)\n"
   ]
  },
  {
   "cell_type": "code",
   "execution_count": 85,
   "metadata": {},
   "outputs": [
    {
     "name": "stdout",
     "output_type": "stream",
     "text": [
      "1*2*3*4*5\n"
     ]
    }
   ],
   "source": [
    "#4 join(): method is used to concat a string with iterable object and returns a new string.\n",
    "\n",
    "str1 = \"*\"\n",
    "lst = ['1','2','3','4','5']\n",
    "\n",
    "str2= str1.join(lst)\n",
    "\n",
    "print(str2)"
   ]
  },
  {
   "cell_type": "code",
   "execution_count": 87,
   "metadata": {},
   "outputs": [
    {
     "name": "stdout",
     "output_type": "stream",
     "text": [
      "WHERE ARE YOU FROM?\n"
     ]
    }
   ],
   "source": [
    "#5 upper(): method capitalizes all the elements in the string\n",
    "\n",
    "str1 = \"where are you from?\"\n",
    "\n",
    "str2 = str1.upper()\n",
    "\n",
    "print(str2)\n"
   ]
  },
  {
   "cell_type": "code",
   "execution_count": null,
   "metadata": {},
   "outputs": [],
   "source": []
  }
 ],
 "metadata": {
  "kernelspec": {
   "display_name": "Python 3",
   "language": "python",
   "name": "python3"
  },
  "language_info": {
   "codemirror_mode": {
    "name": "ipython",
    "version": 3
   },
   "file_extension": ".py",
   "mimetype": "text/x-python",
   "name": "python",
   "nbconvert_exporter": "python",
   "pygments_lexer": "ipython3",
   "version": "3.8.3"
  }
 },
 "nbformat": 4,
 "nbformat_minor": 4
}
