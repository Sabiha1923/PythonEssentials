{
 "cells": [
  {
   "cell_type": "code",
   "execution_count": null,
   "metadata": {},
   "outputs": [],
   "source": [
    "#Question 1: Use Decorator to  print fibonacci series taking your own input and function."
   ]
  },
  {
   "cell_type": "code",
   "execution_count": 14,
   "metadata": {},
   "outputs": [],
   "source": [
    "def EnterCity(inp):\n",
    "    def reverse():\n",
    "        centered_text = inp()\n",
    "        return centered_text [:: -1]\n",
    "    return reverse\n",
    "\n",
    "@EnterCity\n",
    "def reversecity():\n",
    "    text = input ('Enter the name of the city :')\n",
    "    return text"
   ]
  },
  {
   "cell_type": "code",
   "execution_count": 15,
   "metadata": {},
   "outputs": [
    {
     "name": "stdout",
     "output_type": "stream",
     "text": [
      "Enter the name of the city :AURANGABAD\n"
     ]
    },
    {
     "data": {
      "text/plain": [
       "'DABAGNARUA'"
      ]
     },
     "execution_count": 15,
     "metadata": {},
     "output_type": "execute_result"
    }
   ],
   "source": [
    "reversecity()"
   ]
  },
  {
   "cell_type": "code",
   "execution_count": null,
   "metadata": {},
   "outputs": [],
   "source": []
  },
  {
   "cell_type": "code",
   "execution_count": null,
   "metadata": {},
   "outputs": [],
   "source": []
  },
  {
   "cell_type": "code",
   "execution_count": 1,
   "metadata": {},
   "outputs": [],
   "source": [
    "#QUESTION 2: To open a file in read mode and catch subsequent errors.\n",
    "\n",
    "with open (\"myfile.text\", \"w\") as f:\n",
    "    f.write(\"Hello All!\\n\")\n",
    "    f.write(\"This is a test program\\n\")\n",
    "    f.write(\"Hope everything is Good!\\n\")\n",
    "    \n"
   ]
  },
  {
   "cell_type": "code",
   "execution_count": 13,
   "metadata": {},
   "outputs": [
    {
     "name": "stdout",
     "output_type": "stream",
     "text": [
      "Hello All!\n",
      "This is a test program\n",
      "Hope everything is Good!\n",
      "\n"
     ]
    }
   ],
   "source": [
    "f = open(\"myfile.text\", \"r\")\n",
    "print(f.read())"
   ]
  },
  {
   "cell_type": "code",
   "execution_count": 10,
   "metadata": {},
   "outputs": [
    {
     "name": "stdout",
     "output_type": "stream",
     "text": [
      "finally block executed to close the file\n",
      "Error: can't find file or read data\n"
     ]
    }
   ],
   "source": [
    "f = open(\"myfile.text\", \"r\")\n",
    "\n",
    "f.read(10)\n",
    "\n",
    "try:\n",
    "    f = open('myfile.text', 'r')\n",
    "    try:\n",
    "        f.write(\"It's my test file to verify try-finally in exception handling!!\"\n",
    "                  )\n",
    "        print ('try block executed')\n",
    "    finally:\n",
    "        f.close()\n",
    "        print (\"finally block executed to close the file\")\n",
    "except IOError:\n",
    "    print( \"Error: can\\'t find file or read data\")\n",
    "    "
   ]
  },
  {
   "cell_type": "code",
   "execution_count": null,
   "metadata": {},
   "outputs": [],
   "source": []
  }
 ],
 "metadata": {
  "kernelspec": {
   "display_name": "Python 3",
   "language": "python",
   "name": "python3"
  },
  "language_info": {
   "codemirror_mode": {
    "name": "ipython",
    "version": 3
   },
   "file_extension": ".py",
   "mimetype": "text/x-python",
   "name": "python",
   "nbconvert_exporter": "python",
   "pygments_lexer": "ipython3",
   "version": "3.8.3"
  }
 },
 "nbformat": 4,
 "nbformat_minor": 4
}
